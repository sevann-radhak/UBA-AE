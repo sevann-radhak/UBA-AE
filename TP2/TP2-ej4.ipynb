{
 "cells": [
  {
   "cell_type": "markdown",
   "metadata": {},
   "source": [
    "# TP2 - Ejercicio 4"
   ]
  },
  {
   "cell_type": "code",
   "execution_count": 3,
   "metadata": {},
   "outputs": [
    {
     "name": "stdout",
     "output_type": "stream",
     "text": [
      "Stopping search: Swarm best objective change less than 1e-08\n",
      "Optimal Solution (x1, x2): [ 3.11766767 -0.17649172]\n",
      "Objective Function Value (should be close to 0): 1.6325125274611187e-08\n"
     ]
    }
   ],
   "source": [
    "import numpy as np\n",
    "from pyswarm import pso\n",
    "\n",
    "def objective_function(x):    \n",
    "    f1 = 3 * x[0] + 2 * x[1] - 9\n",
    "    f2 = x[0] - 5 * x[1] - 4 \n",
    "    return f1**2 + f2**2  \n",
    "\n",
    "lb = [-10, -10] \n",
    "ub = [10, 10]   \n",
    "\n",
    "xopt, fopt = pso(objective_function, lb, ub, swarmsize=100, maxiter=100)\n",
    "\n",
    "print(\"Optimal Solution (x1, x2):\", xopt)\n",
    "print(\"Objective Function Value (should be close to 0):\", fopt)"
   ]
  }
 ],
 "metadata": {
  "kernelspec": {
   "display_name": "venv",
   "language": "python",
   "name": "python3"
  },
  "language_info": {
   "codemirror_mode": {
    "name": "ipython",
    "version": 3
   },
   "file_extension": ".py",
   "mimetype": "text/x-python",
   "name": "python",
   "nbconvert_exporter": "python",
   "pygments_lexer": "ipython3",
   "version": "3.12.3"
  }
 },
 "nbformat": 4,
 "nbformat_minor": 2
}
