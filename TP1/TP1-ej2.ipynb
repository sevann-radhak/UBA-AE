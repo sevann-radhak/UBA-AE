{
 "cells": [
  {
   "cell_type": "markdown",
   "metadata": {},
   "source": [
    "a. Implementation of Three Genetic Algorithms\n",
    "We will develop three different genetic algorithms to minimize the function ( y = x^2 ) using different selection methods: Ranking, Roulette, and Tournament. The following Python code implements these algorithms.\n",
    "Genetic Algorithm Class"
   ]
  },
  {
   "cell_type": "code",
   "execution_count": 18,
   "metadata": {},
   "outputs": [],
   "source": [
    "import random\n",
    "\n",
    "class GeneticAlgorithm:\n",
    "    def __init__(self, population_size, mutation_rate, crossover_rate, generations, selection_method, elitism=False):\n",
    "        self.population_size = population_size\n",
    "        self.mutation_rate = mutation_rate\n",
    "        self.crossover_rate = crossover_rate\n",
    "        self.generations = generations\n",
    "        self.selection_method = selection_method\n",
    "        self.elitism = elitism  \n",
    "        self.population = []\n",
    "\n",
    "    def fitness(self, x):\n",
    "        return x ** 2 \n",
    "\n",
    "    def initialize_population(self, lower_bound, upper_bound):\n",
    "        self.population = [round(random.uniform(lower_bound, upper_bound), 1) for _ in range(self.population_size)]\n",
    "\n",
    "    def select_parent(self, total_fitness):\n",
    "        if self.selection_method == 'roulette':\n",
    "            selection = random.uniform(0, total_fitness)\n",
    "            current_fitness = 0\n",
    "            for individual in self.population:\n",
    "                current_fitness += self.fitness(individual)\n",
    "                if current_fitness > selection:\n",
    "                    return individual\n",
    "        elif self.selection_method == 'ranking':\n",
    "            ranked_population = sorted(self.population, key=self.fitness)\n",
    "            probabilities = [(len(ranked_population) - rank) / len(ranked_population) for rank in range(len(ranked_population))]\n",
    "            selection = random.uniform(0, sum(probabilities))\n",
    "            current_probability = 0\n",
    "            for i, individual in enumerate(ranked_population):\n",
    "                current_probability += probabilities[i]\n",
    "                if current_probability > selection:\n",
    "                    return individual\n",
    "        elif self.selection_method == 'tournament':\n",
    "            tournament_size = 2\n",
    "            tournament = random.sample(self.population, tournament_size)\n",
    "            return min(tournament, key=self.fitness)\n",
    "\n",
    "    def crossover(self, parent1, parent2):\n",
    "        if random.random() < self.crossover_rate:\n",
    "            return (parent1 + parent2) / 2  \n",
    "        return parent1\n",
    "\n",
    "    def mutate(self, individual):\n",
    "        if random.random() < self.mutation_rate:\n",
    "            return round(individual + random.uniform(-1, 1), 1)  \n",
    "        return individual\n",
    "\n",
    "    def run(self, lower_bound, upper_bound):\n",
    "        self.initialize_population(lower_bound, upper_bound)\n",
    "\n",
    "        for generation in range(self.generations):\n",
    "            total_fitness = sum(self.fitness(ind) for ind in self.population)\n",
    "\n",
    "            if self.elitism:\n",
    "                best_individual = min(self.population, key=self.fitness)\n",
    "\n",
    "            next_generation = []\n",
    "\n",
    "            for _ in range(self.population_size):\n",
    "                parent1 = self.select_parent(total_fitness)\n",
    "                parent2 = self.select_parent(total_fitness)\n",
    "                child = self.crossover(parent1, parent2)\n",
    "                child = self.mutate(child)\n",
    "                next_generation.append(child)\n",
    "\n",
    "            if self.elitism:\n",
    "                next_generation[0] = best_individual  \n",
    "\n",
    "            self.population = next_generation\n",
    "\n",
    "        return min(self.population, key=self.fitness)"
   ]
  },
  {
   "cell_type": "code",
   "execution_count": 21,
   "metadata": {},
   "outputs": [],
   "source": [
    "def run_experiments(population_size=4, mutation_rate=0.09, crossover_rate=0.85, generations=10):\n",
    "    results = {\n",
    "        'ranking': [],\n",
    "        'roulette': [],\n",
    "        'tournament': []\n",
    "    }\n",
    "    \n",
    "    for _ in range(30):\n",
    "        ga_ranking = GeneticAlgorithm(population_size=population_size, mutation_rate=mutation_rate, crossover_rate=crossover_rate, generations=generations, selection_method='ranking', elitism=True)\n",
    "        results['ranking'].append(ga_ranking.run(-31, 31))\n",
    "\n",
    "        ga_roulette = GeneticAlgorithm(population_size=population_size, mutation_rate=mutation_rate, crossover_rate=crossover_rate, generations=generations, selection_method='roulette', elitism=True)\n",
    "        results['roulette'].append(ga_roulette.run(-31, 31))\n",
    "\n",
    "        ga_tournament = GeneticAlgorithm(population_size=population_size, mutation_rate=mutation_rate, crossover_rate=crossover_rate, generations=generations, selection_method='tournament', elitism=False)\n",
    "        results['tournament'].append(ga_tournament.run(-31, 31))\n",
    "\n",
    "    return results"
   ]
  },
  {
   "cell_type": "code",
   "execution_count": 22,
   "metadata": {},
   "outputs": [
    {
     "name": "stdout",
     "output_type": "stream",
     "text": [
      "Results of 30 launches:\n",
      "Ranking Solutions: [-0.3, 0.38749999999999996, -1.3875, 9.9, -0.2, 4.7, 0.5, -0.04999999999999999, -2.2, 0.1, 0.2, -0.04375000000000007, 0.004882812500000132, 0.275, 4.4, -0.2749999999999999, -8.1, -10.0, 0.1, -0.825, -19.6, -3.5, -0.0, -0.11875000000000005, 0.20000000000000018, -3.7, -6.5, -3.608224830031759e-16, 11.9, 8.3]\n",
      "Roulette Solutions: [-10.5, 16.3, 1.25, 0.10000000000000053, 0.20000000000000018, -2.3, 0.05000000000000071, -10.3, 5.9, 10.5, 6.9, 4.6, 5.6, -2.4, -6.4375, 2.0, -1.3, 1.3499999999999996, -6.8999999999999995, 4.6, -11.5, 1.2, -2.7, 1.4, -3.4, -5.1, -0.09999999999999964, -7.3, 8.1, -2.4]\n",
      "Tournament Solutions: [4.1, -8.65625, 7.55, -5.1, -0.3500000000000001, 9.7, 0.23749999999999982, -3.2, 0.3, -0.5, 0.8000000000000007, -0.0, 0.0652343749999998, 6.125, 0.01562499999999999, -0.7625, 1.7, 8.0, -0.0, 1.4, 0.04999999999999999, -7.35, -12.2, 16.1, 2.6, 1.4500000000000002, -2.3499999999999996, 3.5, 0.1, 0.08749999999999994]\n"
     ]
    }
   ],
   "source": [
    "POPULATION_SIZE = 4\n",
    "MUTATION_RATE = 0.09\n",
    "CROSSOVER_RATE = 0.85\n",
    "GENERATIONS = 10    \n",
    "\n",
    "experiment_results = run_experiments(population_size=POPULATION_SIZE, mutation_rate=MUTATION_RATE, crossover_rate=CROSSOVER_RATE, generations=GENERATIONS)\n",
    "\n",
    "print(\"Results of 30 launches:\")\n",
    "print(\"Ranking Solutions:\", experiment_results['ranking'])\n",
    "print(\"Roulette Solutions:\", experiment_results['roulette'])\n",
    "print(\"Tournament Solutions:\", experiment_results['tournament'])"
   ]
  },
  {
   "cell_type": "markdown",
   "metadata": {},
   "source": [
    "b. Summary Table of Results\n",
    "After running the experiments, we will calculate the minimum, average, maximum, and standard deviation for each algorithm's results."
   ]
  },
  {
   "cell_type": "code",
   "execution_count": 11,
   "metadata": {},
   "outputs": [
    {
     "name": "stdout",
     "output_type": "stream",
     "text": [
      "Summary of Results:\n",
      "Ranking - Min: -19.2, Avg: -1.9410481770833328, Max: 7.3, StdDev: 5.352813230631482\n",
      "Roulette - Min: -12.2, Avg: -0.8447916666666669, Max: 6.831249999999999, StdDev: 4.257650614914351\n",
      "Tournament - Min: -13.850000000000001, Avg: -0.6021875000000001, Max: 14.9, StdDev: 6.233364303647925\n"
     ]
    }
   ],
   "source": [
    "import numpy as np\n",
    "\n",
    "def summarize_results(results):\n",
    "    summary = {}\n",
    "    for method, values in results.items():\n",
    "        summary[method] = {\n",
    "            'Minimum': np.min(values),\n",
    "            'Average': np.mean(values),\n",
    "            'Maximum': np.max(values),\n",
    "            'StdDev': np.std(values)\n",
    "        }\n",
    "    return summary\n",
    "\n",
    "summary_results = summarize_results(experiment_results)\n",
    "print(\"Summary of Results:\")\n",
    "for method, stats in summary_results.items():\n",
    "    print(f\"{method.capitalize()} - Min: {stats['Minimum']}, Avg: {stats['Average']}, Max: {stats['Maximum']}, StdDev: {stats['StdDev']}\")"
   ]
  },
  {
   "cell_type": "markdown",
   "metadata": {},
   "source": [
    "### d."
   ]
  },
  {
   "cell_type": "code",
   "execution_count": 28,
   "metadata": {},
   "outputs": [],
   "source": [
    "import random\n",
    "import numpy as np\n",
    "\n",
    "def find_best_parameters(algorithm_type):\n",
    "    best_solution = float('inf')  \n",
    "    best_params = None\n",
    "    \n",
    "    mutation_rates = [0.01, 0.05, 0.09, 0.1]\n",
    "    population_sizes = [4, 8, 12]\n",
    "    generations = [10, 20, 30]\n",
    "\n",
    "    for Pm in mutation_rates:\n",
    "        for pop_size in population_sizes:\n",
    "            for gen in generations:\n",
    "                ga = GeneticAlgorithm(population_size=pop_size, mutation_rate=Pm, crossover_rate=0.85, generations=gen, selection_method=algorithm_type)\n",
    "                solution = ga.run(-31, 31)\n",
    "                fitness = ga.fitness(solution)\n",
    "                \n",
    "                if fitness < best_solution:  \n",
    "                    best_solution = fitness\n",
    "                    best_params = (Pm, pop_size, gen)\n",
    "\n",
    "    return best_solution, best_params"
   ]
  },
  {
   "cell_type": "code",
   "execution_count": 29,
   "metadata": {},
   "outputs": [
    {
     "name": "stdout",
     "output_type": "stream",
     "text": [
      "Best parameters for Ranking: (0.0, (0.05, 12, 10))\n",
      "Best parameters for Roulette: (30.1515877399221, (0.09, 4, 20))\n",
      "Best parameters for Tournament: (0.0, (0.05, 8, 10))\n"
     ]
    }
   ],
   "source": [
    "# Finding the best parameters for each algorithm\n",
    "best_ranking = find_best_parameters('ranking')\n",
    "best_roulette = find_best_parameters('roulette')\n",
    "best_tournament = find_best_parameters('tournament')\n",
    "\n",
    "print(\"Best parameters for Ranking:\", best_ranking)\n",
    "print(\"Best parameters for Roulette:\", best_roulette)\n",
    "print(\"Best parameters for Tournament:\", best_tournament)"
   ]
  }
 ],
 "metadata": {
  "kernelspec": {
   "display_name": "venv",
   "language": "python",
   "name": "python3"
  },
  "language_info": {
   "codemirror_mode": {
    "name": "ipython",
    "version": 3
   },
   "file_extension": ".py",
   "mimetype": "text/x-python",
   "name": "python",
   "nbconvert_exporter": "python",
   "pygments_lexer": "ipython3",
   "version": "3.12.3"
  }
 },
 "nbformat": 4,
 "nbformat_minor": 2
}
